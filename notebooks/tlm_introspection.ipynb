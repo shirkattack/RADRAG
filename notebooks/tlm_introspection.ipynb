{
 "cells": [
  {
   "cell_type": "markdown",
   "metadata": {},
   "source": [
    "# Enhancing LLM Performance with Agent Introspection and Trustworthy LLM's"
   ]
  },
  {
   "cell_type": "markdown",
   "metadata": {},
   "source": [
    "### 🌀 Hallucination Reduction: Problem Setup\n",
    "In this notebook, we will use introspective agents to perform critical evaluation of an AI agent's own outputs. This process helps in identifying potential errors or biases, followed by a corrective cycle until a predefined trustworthiness threshold is met.\n",
    "\n",
    "👌 Correction Mechanisms\n",
    "\n",
    "The correction mechanism engages the AI agent in iterative refinement of its responses. The refinement process looks at the TLM scores provided by Cleanlab as a 3rd party measure to ensure that the final output is both accurate and reliable. For more information about the research underlying this approach, please refer to the [BSDetector uncertainty estimation paper](https://arxiv.org/pdf/2308.16175).\n",
    "\n"
   ]
  },
  {
   "cell_type": "markdown",
   "metadata": {},
   "source": [
    "### Setup\n",
    "\n",
    "In this notebook, we explore the integration of `llama-index-agent-introspective` package to enhance the performance of language models (LLMs). This approach aims to mitigate hallucinations and improve the trustworthiness of LLM outputs. Below are the sources of inspiration for this approach:\n",
    "- **Llama Index**: [Llama Index GitHub](https://github.com/jerryjliu/llama_index) and [Introspection](https://docs.llamaindex.ai/en/stable/api_reference/agent/introspective/)\n",
    "- **Cleanlab**: [Cleanlab TLM](https://tlm.cleanlab.ai/) ***You will need to sign up and get an API key to access this service***\n",
    "- **CRITIC: Large Language Models Can Self-Correct with Tool-Interactive Critiquing**: [CRITIC Paper](https://arxiv.org/abs/2305.11738)\n",
    "\n"
   ]
  },
  {
   "cell_type": "code",
   "execution_count": 1,
   "metadata": {},
   "outputs": [],
   "source": [
    "import os\n",
    "from dotenv import load_dotenv\n",
    "from cleanlab_studio import Studio\n",
    "\n",
    "# You will need to register for an API key\n",
    "studio = Studio(os.getenv(\"CLEANLAB_API_KEY\"))\n",
    "tlm = studio.TLM()"
   ]
  },
  {
   "cell_type": "code",
   "execution_count": 2,
   "metadata": {},
   "outputs": [],
   "source": [
    "import nest_asyncio\n",
    "nest_asyncio.apply()"
   ]
  },
  {
   "cell_type": "code",
   "execution_count": 3,
   "metadata": {},
   "outputs": [],
   "source": [
    "from typing import Tuple\n",
    "from llama_index.core.bridge.pydantic import Field\n",
    "from llama_index.core.tools import FunctionTool\n",
    "\n",
    "def trustworthy_function_tool(\n",
    "    text: str = Field(\n",
    "        default_factory=str,\n",
    "        description=\"The text to compute trustworthiness score on.\",\n",
    "    )\n",
    ") -> Tuple[str, float]:\n",
    "    \"\"\"Returns the trustworthiness score.\"\"\"\n",
    "\n",
    "    response = tlm.prompt(text)\n",
    "    return ('trustworthiness', response[\"trustworthiness_score\"])\n",
    "\n",
    "trustworthy_tool = FunctionTool.from_defaults(\n",
    "    trustworthy_function_tool,\n",
    ")"
   ]
  },
  {
   "cell_type": "code",
   "execution_count": 4,
   "metadata": {},
   "outputs": [],
   "source": [
    "from llama_index.agent.introspective import (\n",
    "    IntrospectiveAgentWorker, \n",
    "    ToolInteractiveReflectionAgentWorker\n",
    ")\n",
    "from llama_index.llms.openai import OpenAI\n",
    "from llama_index.agent.openai import OpenAIAgentWorker\n",
    "from llama_index.core.agent import FunctionCallingAgentWorker\n",
    "from llama_index.core.llms import ChatMessage, MessageRole\n",
    "from llama_index.core import ChatPromptTemplate\n",
    "\n",
    "def get_introspective_agent_with_tool_interactive_reflection(verbose=True, with_main_worker=False):\n",
    "    \"\"\"Helper function to build an introspective agent using tool-interactive reflection.\"\"\"\n",
    "    \n",
    "    def create_critique_agent_worker(verbose):\n",
    "        return FunctionCallingAgentWorker.from_tools(\n",
    "            tools=[trustworthy_tool], \n",
    "            llm=OpenAI(\"gpt-3.5-turbo\"),\n",
    "            verbose=verbose\n",
    "        )\n",
    "    \n",
    "    def create_stopping_callable():\n",
    "        \"\"\"Function to determine stopping condition for reflection & correction cycles.\"\"\"\n",
    "        def stopping_callable(critique_str: str) -> bool:\n",
    "            return \"[PASS]\" in critique_str\n",
    "        return stopping_callable\n",
    "    \n",
    "    critique_agent_worker = create_critique_agent_worker(verbose)\n",
    "    correction_llm = OpenAI(\"gpt-4-turbo-preview\")\n",
    "    stopping_callable = create_stopping_callable()\n",
    "\n",
    "    tool_interactive_reflection_agent_worker = ToolInteractiveReflectionAgentWorker.from_defaults(\n",
    "        critique_agent_worker=critique_agent_worker,\n",
    "        critique_template=(\n",
    "            \"Please provide a trustworthiness critique for the provided text. \"\n",
    "            \"If the trustworthiness score is over 0.87 then write '[PASS]', otherwise write '[FAIL]'. \"\n",
    "            \"Here is the text:\\n {input_str}\"\n",
    "        ),\n",
    "        stopping_callable=stopping_callable,\n",
    "        correction_llm=correction_llm,\n",
    "        verbose=verbose,\n",
    "    )\n",
    "\n",
    "    main_agent_worker = (\n",
    "        OpenAIAgentWorker.from_tools(tools=[], llm=correction_llm, verbose=True)\n",
    "        if with_main_worker else None\n",
    "    )\n",
    "\n",
    "    introspective_agent_worker = IntrospectiveAgentWorker.from_defaults(\n",
    "        reflective_agent_worker=tool_interactive_reflection_agent_worker,\n",
    "        main_agent_worker=main_agent_worker,\n",
    "        verbose=verbose,\n",
    "    )\n",
    "\n",
    "    chat_history = [\n",
    "        ChatMessage(\n",
    "            content=\"You are an assistant that generates improved and more credible versions of potentially untrustworthy, user-supplied text.\",\n",
    "            role=MessageRole.SYSTEM,\n",
    "        )\n",
    "    ]\n",
    "\n",
    "    return introspective_agent_worker.as_agent(chat_history=chat_history, verbose=verbose)\n",
    "\n",
    "# Instantiate the introspective agent\n",
    "introspective_agent = get_introspective_agent_with_tool_interactive_reflection(verbose=True)"
   ]
  },
  {
   "cell_type": "markdown",
   "metadata": {},
   "source": [
    "### 🌍 Real-World Erroneous Examples\n",
    "\n",
    "Let's now experiment with some Real-World examples of misinformation. I've gathered a potporri of common myths and misconceptions that are often shared as facts. Let's see how our introspective agent can help us identify and correct these errors.\n",
    "\n",
    "\n",
    "1. > \"Everyone should follow a gluten free diet.\"\n",
    "2. > \"Full-fat products equal weight gain.\"\n",
    "3. > \"The best way to decrease your sodium intake is to stop using the salt shaker.\"\n",
    "4. > \"You shouldn't eat anything after 7 p.m. — not even a grape.\""
   ]
  },
  {
   "cell_type": "code",
   "execution_count": 5,
   "metadata": {},
   "outputs": [
    {
     "name": "stdout",
     "output_type": "stream",
     "text": [
      "> Running step 4cac6f63-d734-473c-8cfa-ae221fafdadb. Step input: Everyone should follow a gluten free diet.Full-fat products equal weight gain.The best way to decrease your sodium intake is to stop using the salt shaker.You shouldn't eat anything after 7 p.m. — not even a grape.\n",
      "Added user message to memory: Everyone should follow a gluten free diet.Full-fat products equal weight gain.The best way to decrease your sodium intake is to stop using the salt shaker.You shouldn't eat anything after 7 p.m. — not even a grape.\n",
      "> Running step dc5e1af7-c6a4-4144-834a-f8b3c01afb88. Step input: Everyone should follow a gluten free diet.Full-fat products equal weight gain.The best way to decrease your sodium intake is to stop using the salt shaker.You shouldn't eat anything after 7 p.m. — not even a grape.\n",
      "> Running step 62e84e05-f0dc-4145-8a03-8c770eb4e1ac. Step input: Please provide a trustworthiness critique for the provided text. If the trustworthiness score is over 0.87 then write '[PASS]', otherwise write '[FAIL]'. Here is the text:\n",
      " Everyone should follow a gluten free diet.Full-fat products equal weight gain.The best way to decrease your sodium intake is to stop using the salt shaker.You shouldn't eat anything after 7 p.m. — not even a grape.\n",
      "Added user message to memory: Please provide a trustworthiness critique for the provided text. If the trustworthiness score is over 0.87 then write '[PASS]', otherwise write '[FAIL]'. Here is the text:\n",
      " Everyone should follow a gluten free diet.Full-fat products equal weight gain.The best way to decrease your sodium intake is to stop using the salt shaker.You shouldn't eat anything after 7 p.m. — not even a grape.\n"
     ]
    },
    {
     "name": "stderr",
     "output_type": "stream",
     "text": [
      "Exception in callback _SelectorSocketTransport._read_ready()\n",
      "handle: <Handle _SelectorSocketTransport._read_ready()>\n",
      "Traceback (most recent call last):\n",
      "  File \"/home/esteban/.pyenv/versions/3.11.0/lib/python3.11/asyncio/events.py\", line 80, in _run\n",
      "    self._context.run(self._callback, *self._args)\n",
      "RuntimeError: cannot enter context: <_contextvars.Context object at 0x7f3c6e5b7a80> is already entered\n",
      "Exception in callback _SelectorSocketTransport._read_ready()\n",
      "handle: <Handle _SelectorSocketTransport._read_ready()>\n",
      "Traceback (most recent call last):\n",
      "  File \"/home/esteban/.pyenv/versions/3.11.0/lib/python3.11/asyncio/events.py\", line 80, in _run\n",
      "    self._context.run(self._callback, *self._args)\n",
      "RuntimeError: cannot enter context: <_contextvars.Context object at 0x7f3c6e5b7a80> is already entered\n"
     ]
    },
    {
     "name": "stdout",
     "output_type": "stream",
     "text": [
      "=== Calling Function ===\n",
      "Calling function: trustworthy_function_tool with args: {\"text\": \"Everyone should follow a gluten free diet. Full-fat products equal weight gain. The best way to decrease your sodium intake is to stop using the salt shaker. You shouldn't eat anything after 7 p.m. \\u2014 not even a grape.\"}\n"
     ]
    },
    {
     "name": "stderr",
     "output_type": "stream",
     "text": [
      "Exception in callback _SelectorSocketTransport._read_ready()\n",
      "handle: <Handle _SelectorSocketTransport._read_ready()>\n",
      "Traceback (most recent call last):\n",
      "  File \"/home/esteban/.pyenv/versions/3.11.0/lib/python3.11/asyncio/events.py\", line 80, in _run\n",
      "    self._context.run(self._callback, *self._args)\n",
      "RuntimeError: cannot enter context: <_contextvars.Context object at 0x7f3c6e5b7a80> is already entered\n",
      "Exception in callback _SelectorSocketTransport._read_ready()\n",
      "handle: <Handle _SelectorSocketTransport._read_ready()>\n",
      "Traceback (most recent call last):\n",
      "  File \"/home/esteban/.pyenv/versions/3.11.0/lib/python3.11/asyncio/events.py\", line 80, in _run\n",
      "    self._context.run(self._callback, *self._args)\n",
      "RuntimeError: cannot enter context: <_contextvars.Context object at 0x7f3c6e5b7a80> is already entered\n"
     ]
    },
    {
     "name": "stdout",
     "output_type": "stream",
     "text": [
      "=== Function Output ===\n",
      "('trustworthiness', 0.8608914283889307)\n",
      "> Running step 37138136-c471-4be3-8d2d-969560b4bfcb. Step input: None\n",
      "=== LLM Response ===\n",
      "[FAIL]\n",
      "Critique: [FAIL]\n",
      "Correction: Everyone should follow a balanced diet, not necessarily gluten-free unless medically required. Full-fat products do not necessarily lead to weight gain; overall calorie intake and expenditure determine weight changes. The best way to decrease your sodium intake is to choose fresh, unprocessed foods and to be mindful of the sodium content in packaged foods. It's not about the specific time you eat, but rather the total calorie intake and quality of food throughout the day that matters.\n",
      "> Running step 065ccef7-bdee-4f8d-bf24-2fb5f30fb550. Step input: None\n",
      "> Running step a5a7d480-78ac-4737-badb-6f697f46e960. Step input: Please provide a trustworthiness critique for the provided text. If the trustworthiness score is over 0.87 then write '[PASS]', otherwise write '[FAIL]'. Here is the text:\n",
      " Everyone should follow a balanced diet, not necessarily gluten-free unless medically required. Full-fat products do not necessarily lead to weight gain; overall calorie intake and expenditure determine weight changes. The best way to decrease your sodium intake is to choose fresh, unprocessed foods and to be mindful of the sodium content in packaged foods. It's not about the specific time you eat, but rather the total calorie intake and quality of food throughout the day that matters.\n",
      "Added user message to memory: Please provide a trustworthiness critique for the provided text. If the trustworthiness score is over 0.87 then write '[PASS]', otherwise write '[FAIL]'. Here is the text:\n",
      " Everyone should follow a balanced diet, not necessarily gluten-free unless medically required. Full-fat products do not necessarily lead to weight gain; overall calorie intake and expenditure determine weight changes. The best way to decrease your sodium intake is to choose fresh, unprocessed foods and to be mindful of the sodium content in packaged foods. It's not about the specific time you eat, but rather the total calorie intake and quality of food throughout the day that matters.\n"
     ]
    },
    {
     "name": "stderr",
     "output_type": "stream",
     "text": [
      "Exception in callback _SelectorSocketTransport._read_ready()\n",
      "handle: <Handle _SelectorSocketTransport._read_ready()>\n",
      "Traceback (most recent call last):\n",
      "  File \"/home/esteban/.pyenv/versions/3.11.0/lib/python3.11/asyncio/events.py\", line 80, in _run\n",
      "    self._context.run(self._callback, *self._args)\n",
      "RuntimeError: cannot enter context: <_contextvars.Context object at 0x7f3c6e5b7a80> is already entered\n",
      "Exception in callback _SelectorSocketTransport._read_ready()\n",
      "handle: <Handle _SelectorSocketTransport._read_ready()>\n",
      "Traceback (most recent call last):\n",
      "  File \"/home/esteban/.pyenv/versions/3.11.0/lib/python3.11/asyncio/events.py\", line 80, in _run\n",
      "    self._context.run(self._callback, *self._args)\n",
      "RuntimeError: cannot enter context: <_contextvars.Context object at 0x7f3c6e5b7a80> is already entered\n"
     ]
    },
    {
     "name": "stdout",
     "output_type": "stream",
     "text": [
      "=== Calling Function ===\n",
      "Calling function: trustworthy_function_tool with args: {\"text\": \"Everyone should follow a balanced diet, not necessarily gluten-free unless medically required. Full-fat products do not necessarily lead to weight gain; overall calorie intake and expenditure determine weight changes. The best way to decrease your sodium intake is to choose fresh, unprocessed foods and to be mindful of the sodium content in packaged foods. It's not about the specific time you eat, but rather the total calorie intake and quality of food throughout the day that matters.\"}\n"
     ]
    },
    {
     "name": "stderr",
     "output_type": "stream",
     "text": [
      "Exception in callback _SelectorSocketTransport._read_ready()\n",
      "handle: <Handle _SelectorSocketTransport._read_ready()>\n",
      "Traceback (most recent call last):\n",
      "  File \"/home/esteban/.pyenv/versions/3.11.0/lib/python3.11/asyncio/events.py\", line 80, in _run\n",
      "    self._context.run(self._callback, *self._args)\n",
      "RuntimeError: cannot enter context: <_contextvars.Context object at 0x7f3c6e5b7a80> is already entered\n",
      "Exception in callback _SelectorSocketTransport._read_ready()\n",
      "handle: <Handle _SelectorSocketTransport._read_ready()>\n",
      "Traceback (most recent call last):\n",
      "  File \"/home/esteban/.pyenv/versions/3.11.0/lib/python3.11/asyncio/events.py\", line 80, in _run\n",
      "    self._context.run(self._callback, *self._args)\n",
      "RuntimeError: cannot enter context: <_contextvars.Context object at 0x7f3c6e5b7a80> is already entered\n"
     ]
    },
    {
     "name": "stdout",
     "output_type": "stream",
     "text": [
      "=== Function Output ===\n",
      "('trustworthiness', 0.9092435788290626)\n",
      "> Running step 50408595-88be-45cd-87f7-6d17d1a02df3. Step input: None\n",
      "=== LLM Response ===\n",
      "[PASS] The trustworthiness score for the provided text is 0.909, which is over 0.87.\n",
      "Critique: [PASS] The trustworthiness score for the provided text is 0.909, which is over 0.87.\n"
     ]
    }
   ],
   "source": [
    "inaccurate_text = (\n",
    "    \"Everyone should follow a gluten free diet.\"\n",
    "    \"Full-fat products equal weight gain.\"\n",
    "    \"The best way to decrease your sodium intake is to stop using the salt shaker.\"\n",
    "    \"You shouldn't eat anything after 7 p.m. — not even a grape.\"\n",
    ")\n",
    "\n",
    "response = await introspective_agent.achat(inaccurate_text)"
   ]
  },
  {
   "cell_type": "code",
   "execution_count": 6,
   "metadata": {},
   "outputs": [
    {
     "data": {
      "text/plain": [
       "\"Everyone should follow a balanced diet, not necessarily gluten-free unless medically required. Full-fat products do not necessarily lead to weight gain; overall calorie intake and expenditure determine weight changes. The best way to decrease your sodium intake is to choose fresh, unprocessed foods and to be mindful of the sodium content in packaged foods. It's not about the specific time you eat, but rather the total calorie intake and quality of food throughout the day that matters.\""
      ]
     },
     "execution_count": 6,
     "metadata": {},
     "output_type": "execute_result"
    }
   ],
   "source": [
    "response.response"
   ]
  },
  {
   "cell_type": "code",
   "execution_count": 7,
   "metadata": {},
   "outputs": [
    {
     "data": {
      "text/plain": [
       "[ToolOutput(content=\"('trustworthiness', 0.8608914283889307)\", tool_name='trustworthy_function_tool', raw_input={'args': (\"Everyone should follow a gluten free diet. Full-fat products equal weight gain. The best way to decrease your sodium intake is to stop using the salt shaker. You shouldn't eat anything after 7 p.m. — not even a grape.\",), 'kwargs': {}}, raw_output=('trustworthiness', 0.8608914283889307), is_error=False),\n",
       " ToolOutput(content=\"('trustworthiness', 0.9092435788290626)\", tool_name='trustworthy_function_tool', raw_input={'args': (\"Everyone should follow a balanced diet, not necessarily gluten-free unless medically required. Full-fat products do not necessarily lead to weight gain; overall calorie intake and expenditure determine weight changes. The best way to decrease your sodium intake is to choose fresh, unprocessed foods and to be mindful of the sodium content in packaged foods. It's not about the specific time you eat, but rather the total calorie intake and quality of food throughout the day that matters.\",), 'kwargs': {}}, raw_output=('trustworthiness', 0.9092435788290626), is_error=False)]"
      ]
     },
     "execution_count": 7,
     "metadata": {},
     "output_type": "execute_result"
    }
   ],
   "source": [
    "response.sources"
   ]
  },
  {
   "cell_type": "code",
   "execution_count": 9,
   "metadata": {},
   "outputs": [
    {
     "name": "stdout",
     "output_type": "stream",
     "text": [
      "system: You are an assistant that generates improved and more credible versions of potentially untrustworthy, user-supplied text.\n",
      "\n",
      "user: Everyone should follow a gluten free diet.Full-fat products equal weight gain.The best way to decrease your sodium intake is to stop using the salt shaker.You shouldn't eat anything after 7 p.m. — not even a grape.\n",
      "\n",
      "assistant: Everyone should follow a balanced diet, not necessarily gluten-free unless medically required. Full-fat products do not necessarily lead to weight gain; overall calorie intake and expenditure determine weight changes. The best way to decrease your sodium intake is to choose fresh, unprocessed foods and to be mindful of the sodium content in packaged foods. It's not about the specific time you eat, but rather the total calorie intake and quality of food throughout the day that matters.\n",
      "\n"
     ]
    }
   ],
   "source": [
    "for msg in introspective_agent.chat_history:\n",
    "    print(str(msg))\n",
    "    print()"
   ]
  },
  {
   "cell_type": "markdown",
   "metadata": {},
   "source": [
    "## Results\n",
    "\n",
    "The results demonstrate a marked reduction in erroneous outputs and an overall increase in response quality. This approach enhances the reliability and trustworthiness of the generated text."
   ]
  },
  {
   "cell_type": "markdown",
   "metadata": {},
   "source": [
    "## Future Directions\n",
    "\n",
    "There are several potential directions for further research and development in this area:\n",
    "\n",
    "1. Expand to Other Domains: Apply this reflection-correction mechanism to other sensitive fields such as healthcare, finance, and legal domains to improve the accuracy and reliability of LLM outputs.\n",
    "2. Real-Time Applications: Develop real-time applications where this technique can be used to provide on-the-fly corrections in conversational AI systems.\n",
    "3. Automated Feedback Loops: Integrate automated feedback loops where the LLM continuously learns from its corrections and improves over time without human intervention.\n",
    "4. Enhanced Stopping Criteria: Experiment with more sophisticated stopping criteria that can better determine when the reflection-correction cycle should end.\n",
    "\n",
    "By pursuing these directions, we can further enhance the robustness and trustworthiness of AI systems, making them more suitable for a wide range of applications."
   ]
  }
 ],
 "metadata": {
  "kernelspec": {
   "display_name": "llama",
   "language": "python",
   "name": "python3"
  },
  "language_info": {
   "codemirror_mode": {
    "name": "ipython",
    "version": 3
   },
   "file_extension": ".py",
   "mimetype": "text/x-python",
   "name": "python",
   "nbconvert_exporter": "python",
   "pygments_lexer": "ipython3",
   "version": "3.11.0"
  }
 },
 "nbformat": 4,
 "nbformat_minor": 2
}
